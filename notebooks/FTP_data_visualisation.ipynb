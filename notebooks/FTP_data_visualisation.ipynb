{
 "cells": [
  {
   "cell_type": "markdown",
   "metadata": {},
   "source": [
    "Load location"
   ]
  },
  {
   "cell_type": "code",
   "execution_count": null,
   "metadata": {},
   "outputs": [],
   "source": [
    "import pandas as pd\n",
    "import matplotlib as plt\n",
    "import os\n",
    "import datetime\n",
    "\n",
    "#we don't want to make plots with too less of data\n",
    "IGNORE_PLOT_MIN = 5\n",
    "\n",
    "loc = input('Files location: ')\n",
    "if not loc: loc = '../metadata'\n",
    "\n",
    "#define parsers functions\n",
    "def time_pars(c): return datetime.datetime(int(c[6:10]), int(c[3:5]), int(c[0:2]), int(c[11:13]), int(c[14:16]), int(c[17:19]))\n",
    "def bool_pars(c): return 1 if c == 'True' else 0\n",
    "    \n",
    "data = dict()\n",
    "processed = dict()\n",
    "    \n",
    "#process files\n",
    "for file_name in os.listdir(loc):\n",
    "    if not file_name.endswith('.csv'):\n",
    "        continue\n",
    "    with open(os.path.join(loc, file_name), 'r') as file:\n",
    "        data[file_name[:-4]] = pd.read_csv(file, parse_dates=[0, 1, 2], date_parser=time_pars, index_col=0, \n",
    "                                           converters={'Metadata changed': bool_pars, 'Binary changed': bool_pars})\n",
    "\n",
    "#ddata.keys() is not sorted, but we want plots to appear in alphabetical order\n",
    "data_names = sorted(data.keys())"
   ]
  },
  {
   "cell_type": "markdown",
   "metadata": {},
   "source": [
    "Select resample time delta and plot"
   ]
  },
  {
   "cell_type": "code",
   "execution_count": null,
   "metadata": {},
   "outputs": [],
   "source": [
    "fr = input('Select time period:')\n",
    "if not fr: fr = '1H'\n",
    "    \n",
    "for to_plot in data_names:\n",
    "    temp_df = data[to_plot]\n",
    "    if len(temp_df.index) < IGNORE_PLOT_MIN:\n",
    "        continue\n",
    "    temp_df = temp_df.filter(items=['Binary changed', 'Metadata changed']).resample(fr).sum()\n",
    "    temp_df.plot(style='o',title=to_plot)#.locator_params(integer=True)\n",
    "temp_df = None"
   ]
  },
  {
   "cell_type": "markdown",
   "metadata": {},
   "source": [
    "Plot suffix sums"
   ]
  },
  {
   "cell_type": "code",
   "execution_count": null,
   "metadata": {},
   "outputs": [],
   "source": [
    "for to_plot in data_names:\n",
    "    temp_df = data[to_plot]\n",
    "    if len(temp_df.index) < IGNORE_PLOT_MIN or to_plot in processed:\n",
    "        continue\n",
    "    temp_df = temp_df[temp_df['Binary changed'] > 0].filter([])\n",
    "    total = len(temp_df.index) #save total number of updates to calculate %s\n",
    "    temp_df['Time (s)'] = temp_df.index #we want to calculate diff() on index, so we have to make copy of it (diff() does not work on indexes)\n",
    "    temp_df = temp_df.diff().iloc[1:].set_index('Time (s)') #caclulate diff(), throw away the first value and set it as index\n",
    "    temp_df.insert(column='Quantity', value=1, loc=0)\n",
    "    temp_df = temp_df.resample('1S').sum()\n",
    "    temp_df.index = temp_df.index.map(lambda x: int(x.total_seconds())) #convert time stored in timedeltas into ints\n",
    "    suff_sum = 0\n",
    "    for index in reversed(temp_df.index):\n",
    "        suff_sum += temp_df.loc[index, 'Quantity'] #use suffix sum\n",
    "        temp_df.loc[index, 'Quantity'] = suff_sum / total #calculate %\n",
    "    processed[to_plot] = temp_df\n",
    "temp_df = None\n",
    "#code above takes a few sec to run, so we store its result in processed[] so we don't have to run it again\n",
    "\n",
    "mn = input('Plot start (s): ')\n",
    "if not mn or int(mn) < 0: mn = 0\n",
    "else: mn = int(mn)\n",
    "mx = input('Plot end (s): ')\n",
    "if not mx or int(mx) < 0: mx = 120\n",
    "else: mx = int(mx)\n",
    "\n",
    "for to_plot in data_names:\n",
    "    if len(data[to_plot].index) < IGNORE_PLOT_MIN:\n",
    "        continue\n",
    "    processed[to_plot].plot(title=to_plot, xlim = (mn, mx))"
   ]
  }
 ],
 "metadata": {
  "kernelspec": {
   "display_name": "Python 3",
   "language": "python",
   "name": "python3"
  },
  "language_info": {
   "codemirror_mode": {
    "name": "ipython",
    "version": 3
   },
   "file_extension": ".py",
   "mimetype": "text/x-python",
   "name": "python",
   "nbconvert_exporter": "python",
   "pygments_lexer": "ipython3",
   "version": "3.6.9"
  }
 },
 "nbformat": 4,
 "nbformat_minor": 4
}
