{
 "cells": [
  {
   "cell_type": "markdown",
   "metadata": {},
   "source": [
    "Load location"
   ]
  },
  {
   "cell_type": "code",
   "execution_count": 34,
   "metadata": {},
   "outputs": [
    {
     "name": "stdout",
     "output_type": "stream",
     "text": [
      "Files location: ../metadata\n"
     ]
    }
   ],
   "source": [
    "import pandas as pd\n",
    "import os\n",
    "import matplotlib as plt\n",
    "from datetime import datetime\n",
    "def time_pars(c):\n",
    "    return datetime(int(c[6:10]), int(c[3:5]), int(c[0:2]), int(c[11:13]), int(c[14:16]), int(c[17:19]))\n",
    "loc = input('Files location: ')"
   ]
  },
  {
   "cell_type": "markdown",
   "metadata": {},
   "source": [
    "Select file"
   ]
  },
  {
   "cell_type": "code",
   "execution_count": 47,
   "metadata": {},
   "outputs": [
    {
     "name": "stdout",
     "output_type": "stream",
     "text": [
      "1: VehiclePositions_T.pb.csv\n",
      "2: ServiceAlerts_A.pb.csv\n",
      "3: TripUpdates_A.pb.csv\n",
      "4: GTFS_KRK_A.zip.csv\n",
      "5: ServiceAlerts_T.pb.csv\n",
      "6: GTFS_KRK_T.zip.csv\n",
      "7: VehiclePositions_A.pb.csv\n",
      "8: TripUpdates_T.pb.csv\n",
      "Select file:7\n"
     ]
    }
   ],
   "source": [
    "files_list = os.listdir(loc)\n",
    "for i in range(len(files_list)):\n",
    "    print(i + 1, files_list[i], sep=': ')\n",
    "sel = int(input('Select file:')) - 1\n",
    "with open(os.path.join(loc, files_list[sel]), 'r') as file:\n",
    "    data = pd.read_csv(file, parse_dates=[0], date_parser=time_pars, index_col=0)\n",
    "data = data[data['Binary changed'] == True]\n",
    "data = data.filter(items=[])\n",
    "data.insert(column='Quantity', value=1, loc=0)"
   ]
  },
  {
   "cell_type": "markdown",
   "metadata": {},
   "source": [
    "Select resample time delta and plot"
   ]
  },
  {
   "cell_type": "code",
   "execution_count": 56,
   "metadata": {},
   "outputs": [
    {
     "name": "stdout",
     "output_type": "stream",
     "text": [
      "Select time period:20T\n"
     ]
    },
    {
     "data": {
      "text/plain": [
       "<AxesSubplot:xlabel='Log time'>"
      ]
     },
     "execution_count": 56,
     "metadata": {},
     "output_type": "execute_result"
    },
    {
     "data": {
      "image/png": "[encoded data removed]",
      "text/plain": [
       "<Figure size 432x288 with 1 Axes>"
      ]
     },
     "metadata": {
      "needs_background": "light"
     },
     "output_type": "display_data"
    }
   ],
   "source": [
    "fr = input('Select time period:')\n",
    "to_plot = data.resample(fr).sum()\n",
    "to_plot.plot(style='o')"
   ]
  },
  {
   "cell_type": "code",
   "execution_count": null,
   "outputs": [],
   "source": [],
   "metadata": {
    "collapsed": false,
    "pycharm": {
     "name": "#%%\n"
    }
   }
  },
  {
   "cell_type": "code",
   "execution_count": null,
   "metadata": {},
   "outputs": [],
   "source": []
  }
 ],
 "metadata": {
  "kernelspec": {
   "display_name": "Python 3",
   "language": "python",
   "name": "python3"
  },
  "language_info": {
   "codemirror_mode": {
    "name": "ipython",
    "version": 3
   },
   "file_extension": ".py",
   "mimetype": "text/x-python",
   "name": "python",
   "nbconvert_exporter": "python",
   "pygments_lexer": "ipython3",
   "version": "3.8.5"
  }
 },
 "nbformat": 4,
 "nbformat_minor": 4
}